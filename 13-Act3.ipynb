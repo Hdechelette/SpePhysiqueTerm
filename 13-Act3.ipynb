{
 "cells": [
  {
   "cell_type": "markdown",
   "metadata": {},
   "source": [
    "<h2> Activit&eacute; 3 - Vérification de la 3ème loi de Kepler \n"
   ]
  },
  {
   "cell_type": "markdown",
   "metadata": {},
   "source": [
    "Le programme va permettre de vérifier la 3ème loi de Kepler dans le cas des satellites de Jupiter puis d'évaluer la masse de Jupiter."
   ]
  },
  {
   "cell_type": "code",
   "execution_count": 52,
   "metadata": {},
   "outputs": [],
   "source": [
    "#Import des bibliothèques nécessaires au fonctionnement du programme\n",
    "import matplotlib.pyplot as plt\n",
    "import scipy.stats as stat"
   ]
  },
  {
   "cell_type": "code",
   "execution_count": 53,
   "metadata": {},
   "outputs": [],
   "source": [
    "# Valeurs des demi-grands axes a en milliers de km et périodes en jours pour les planètes du systèmes solaire  \n",
    "LIST_a = [181,221,421,671,1070,1882] #liste des demi-grands axes\n",
    "LIST_T = [0.498,0.674,1.769,3.551,7.155,16.689] # liste périodes de révolution\n",
    "LIST_P = ['Amalthée','Thébé','Io','Europe','Ganymède','Callisto'] # nom des satellites de Jupiter"
   ]
  },
  {
   "cell_type": "code",
   "execution_count": 54,
   "metadata": {},
   "outputs": [],
   "source": [
    "# Création des valeurs à tracer sur l'axe des ordonnées et des abscisses\n",
    "for i in range(0, len(LIST_a)):\n",
    "   LIST_a[i] = (LIST_a[i]*1e6)**3 \n",
    "   LIST_T[i] = (LIST_T[i]*24*3600)**2 "
   ]
  },
  {
   "cell_type": "code",
   "execution_count": 55,
   "metadata": {},
   "outputs": [
    {
     "name": "stdout",
     "output_type": "stream",
     "text": [
      "pente --> 3.1190857441966125e-16\n",
      "ordonnée à l origine --> 13474077.96661377\n",
      "coefficient de corrélation -->0.9999999968990072\n"
     ]
    }
   ],
   "source": [
    "# Régression linéaire\n",
    "regression = stat.linregress(LIST_a,LIST_T) # regression est une liste des trois données : pente, ordonnée à l'origine et coefficient directeur\n",
    "pente =regression[0] # récupération dans la variable pente du coefficient directeur\n",
    "print('pente --> '+str(pente)) # Affichage du coefficient directeur\n",
    "ordorigine =regression[1] #  récupération dans la variable ordorigine de l'ordonnée à l'origine\n",
    "print('ordonnée à l origine --> '+str(ordorigine)) # Affichage de l'ordonnée à l'origine\n",
    "coeffcorel = regression[2] #récupération dans la variable coeffcorel du coefficient de correlation r\n",
    "print('coefficient de corrélation -->'+str(coeffcorel)) # Affichage du coefficient de correlation"
   ]
  },
  {
   "cell_type": "code",
   "execution_count": 56,
   "metadata": {},
   "outputs": [],
   "source": [
    "#Calcul des coordonnées d'un point appartenant à la droite de régression\n",
    "# ce point est utilisé pour tracer la droite sur le graphe\n",
    "# la droite est tracé entre les points de coordonnées (0,0).et (a_3_max , T_2_max)\n",
    "a_3_max = LIST_a[len(LIST_a)-1]\n",
    "T_2_max =pente *a_3_max + ordorigine "
   ]
  },
  {
   "cell_type": "code",
   "execution_count": 57,
   "metadata": {},
   "outputs": [
    {
     "data": {
      "image/png": "[encoded data removed]",
      "text/plain": [
       "<Figure size 432x288 with 1 Axes>"
      ]
     },
     "metadata": {
      "needs_background": "light"
     },
     "output_type": "display_data"
    }
   ],
   "source": [
    "#Affichage du graphe\n",
    "plt.grid(True)\n",
    "plt.xlabel(\"a au cube (m3)\" ) \n",
    "plt.ylabel(\"periode au carré (s2)\")\n",
    "plt.scatter(LIST_a,LIST_T,s = 100,c ='red',marker ='+') # affichage des points\n",
    "\n",
    "# Affichage des noms et de la droite de regression\n",
    "for i in range (0,len(LIST_a)): \n",
    "   plt.text(LIST_a[i],LIST_T[i], LIST_P[i],fontsize =8)\n",
    "   plt.plot ([0,a_3_max],[ordorigine,T_2_max],c ='blue')\n",
    "plt.show()"
   ]
  }
 ],
 "metadata": {
  "jupytext": {
   "cell_metadata_filter": "-all",
   "encoding": "# -*- coding: utf-8 -*-",
   "notebook_metadata_filter": "-all",
   "text_representation": {
    "extension": ".py",
    "format_name": "light"
   }
  },
  "kernelspec": {
   "display_name": "Python 3",
   "language": "python",
   "name": "python3"
  },
  "language_info": {
   "codemirror_mode": {
    "name": "ipython",
    "version": 3
   },
   "file_extension": ".py",
   "mimetype": "text/x-python",
   "name": "python",
   "nbconvert_exporter": "python",
   "pygments_lexer": "ipython3",
   "version": "3.8.3"
  },
  "latex_envs": {
   "LaTeX_envs_menu_present": true,
   "autoclose": false,
   "autocomplete": true,
   "bibliofile": "biblio.bib",
   "cite_by": "apalike",
   "current_citInitial": 1,
   "eqLabelWithNumbers": true,
   "eqNumInitial": 1,
   "hotkeys": {
    "equation": "Ctrl-E",
    "itemize": "Ctrl-I"
   },
   "labels_anchors": false,
   "latex_user_defs": false,
   "report_style_numbering": false,
   "user_envs_cfg": false
  }
 },
 "nbformat": 4,
 "nbformat_minor": 4
}
