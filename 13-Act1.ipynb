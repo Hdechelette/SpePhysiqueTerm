{
 "cells": [
  {
   "cell_type": "markdown",
   "metadata": {},
   "source": [
    "<h2> Activit&eacute; 1 - Repr&eacute;sentation de la 1ere loi de Kepler \n",
    "</h2>"
   ]
  },
  {
   "cell_type": "raw",
   "metadata": {},
   "source": [
    "    Le programme modélise l'orbite de Mercure dont la position est repérée à intervalle de temps constants. \n",
    "    Il est adaptable à d'autres planêtes du système solaire."
   ]
  },
  {
   "cell_type": "code",
   "execution_count": 12,
   "metadata": {},
   "outputs": [],
   "source": [
    "#Import des bibliothèques nécessaires au fonctionnement du programme\n",
    "import matplotlib.pyplot as plt\n",
    "import math as m\n",
    "import scipy.optimize as op \n",
    "\n",
    "#déclaration des listes pour conserver les données lors des calculs\n",
    "t,M,u,theta,R,X,Y = [],[],[],[],[],[],[]"
   ]
  },
  {
   "cell_type": "code",
   "execution_count": 13,
   "metadata": {},
   "outputs": [],
   "source": [
    "# Données d’astronomie pour Mercure\n",
    "T_rev = 0.240  # période de révolution de Mercure (an) \n",
    "a = 0.387      # demi grand axe en (UA)\n",
    "e = 0.206      # excentricité\n",
    "N = 40         # nombre de positions représentées sur le graphe\n",
    "\n",
    "# Rappel : U.A. l'unité astronomique correspond à la distance moyenne Terre-Soleil soit 150 millions de km"
   ]
  },
  {
   "cell_type": "code",
   "execution_count": 14,
   "metadata": {},
   "outputs": [],
   "source": [
    "# résolution des équations de Kepler \n",
    "# détermination de la position de l'astre autour de son orbite\n",
    "for i in range(N):\n",
    "\tt.append(i*T_rev /N)\n",
    "\tM.append(2*m.pi/T_rev *t[i]) \n",
    "\tu.append(float(op.fsolve (lambda x:x-e*m.sin(x)-M[i],0) ))\n",
    "    \n",
    "# Calcul des coordonnées polaires\n",
    "\ttheta.append(2*m.atan((m.sqrt((1+e)/ (1-e))*m.tan(u[i]/2))))\n",
    "\tR.append(a*(1-e**2)/(1+e*m.cos(theta[i]))) \n",
    "    \n",
    "# calcul des corrdonnées cartésiennes\n",
    "\tX.append(R[i]*m.cos(theta[i])) \n",
    "\tY.append(R[i]*m.sin(theta[i]))"
   ]
  },
  {
   "cell_type": "code",
   "execution_count": 15,
   "metadata": {},
   "outputs": [
    {
     "data": {
      "image/png": "[encoded data removed]",
      "text/plain": [
       "<Figure size 432x288 with 1 Axes>"
      ]
     },
     "metadata": {
      "needs_background": "light"
     },
     "output_type": "display_data"
    }
   ],
   "source": [
    "#affichage de l’orbite \n",
    "plt.grid(True) #affichage de la grille\n",
    "plt.xlabel(\"distance (U.A)\") # légendes des axes\n",
    "plt.ylabel(\"distance (U.A)\") \n",
    "plt.axis('equal')\n",
    "plt.plot(X,Y,\"bo\") #positionnement des points de l'orbite de Mercure\n",
    "plt.plot(0,0,\"go\") # positionnement du point vert représentant le soleil\n",
    "plt.show()"
   ]
  },
  {
   "cell_type": "code",
   "execution_count": null,
   "metadata": {},
   "outputs": [],
   "source": []
  },
  {
   "cell_type": "code",
   "execution_count": null,
   "metadata": {},
   "outputs": [],
   "source": []
  }
 ],
 "metadata": {
  "jupytext": {
   "cell_metadata_filter": "-all",
   "encoding": "# -*- coding: utf-8 -*-",
   "notebook_metadata_filter": "-all",
   "text_representation": {
    "extension": ".py",
    "format_name": "light"
   }
  },
  "kernelspec": {
   "display_name": "Python 3",
   "language": "python",
   "name": "python3"
  },
  "language_info": {
   "codemirror_mode": {
    "name": "ipython",
    "version": 3
   },
   "file_extension": ".py",
   "mimetype": "text/x-python",
   "name": "python",
   "nbconvert_exporter": "python",
   "pygments_lexer": "ipython3",
   "version": "3.8.3"
  },
  "latex_envs": {
   "LaTeX_envs_menu_present": true,
   "autoclose": false,
   "autocomplete": true,
   "bibliofile": "biblio.bib",
   "cite_by": "apalike",
   "current_citInitial": 1,
   "eqLabelWithNumbers": true,
   "eqNumInitial": 1,
   "hotkeys": {
    "equation": "Ctrl-E",
    "itemize": "Ctrl-I"
   },
   "labels_anchors": false,
   "latex_user_defs": false,
   "report_style_numbering": false,
   "user_envs_cfg": false
  }
 },
 "nbformat": 4,
 "nbformat_minor": 4
}
