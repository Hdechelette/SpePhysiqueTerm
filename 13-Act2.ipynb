{
 "cells": [
  {
   "cell_type": "markdown",
   "metadata": {},
   "source": [
    "<h2> Activit&eacute; 2 - Vérification de la 2ème loi de Kepler \n",
    "</h2>"
   ]
  },
  {
   "cell_type": "raw",
   "metadata": {},
   "source": [
    "Le programme va permettre de vérifier la 2ème loi de Kepler dans le cas de la trajectoire de la comète de Halley autour du soleil."
   ]
  },
  {
   "cell_type": "code",
   "execution_count": 69,
   "metadata": {},
   "outputs": [],
   "source": [
    "#Import des bibliothèques nécessaires au fonctionnement du programme\n",
    "import matplotlib.pyplot as plt\n",
    "import math as m\n",
    "import scipy.optimize as op \n",
    "#déclaration des listes \n",
    "t,M,u,theta,R,X,Y = [],[],[],[],[],[],[]"
   ]
  },
  {
   "cell_type": "code",
   "execution_count": 70,
   "metadata": {},
   "outputs": [],
   "source": [
    "# Données d’astronomie de la comète de Halley\n",
    "T_rev = 76.09 #période de révolution (an) \n",
    "a = 17.83     # demi grand axe en (UA)\n",
    "e = 0.967     # excentricité\n",
    "N = 40       # nombre de positions"
   ]
  },
  {
   "cell_type": "code",
   "execution_count": 71,
   "metadata": {},
   "outputs": [],
   "source": [
    "# Résolution des équations de Kepler \n",
    "# détermination de la position de l'astre autour de son orbite\n",
    "for i in range(N):\n",
    "\tt.append(i*T_rev /N)\n",
    "\tM.append(2*m.pi/T_rev *t[i]) \n",
    "\tu.append(float(op.fsolve (lambda x:x-e*m.sin(x)-M[i],0) ))\n",
    "# Calcul des coordonnées polaires\n",
    "\ttheta.append(2*m.atan((m.sqrt((1+e)/ (1-e))*m.tan(u[i]/2))))\n",
    "\tR.append(a*(1-e**2)/(1+e*m.cos(theta[i]))) \n",
    "# calcul des corrdonnées cartésiennes\n",
    "\tX.append(R[i]*m.cos(theta[i])) \n",
    "\tY.append(R[i]*m.sin(theta[i]))"
   ]
  },
  {
   "cell_type": "code",
   "execution_count": 72,
   "metadata": {
    "lines_to_next_cell": 2
   },
   "outputs": [],
   "source": [
    "# Aires des triangles\n",
    "# B,C points utilisés pour repérer la 1ere aire, D et E points pour repérer la seconde aire\n",
    "# le chiffre 0 correspond au point le plus à droite de la trajectoire, \n",
    "# les points sont ensuite numérotés de 0 à N selon le sens trigonomètrique\n",
    "B,C = 4,6 \n",
    "D = 20      \n",
    "E = D + (C-B) # valeur de E tel que l'intervalle entre B et C soit ......... à l'intervalle entre D et E\n",
    "# ATTENTION: les valeurs des points sont forcément inférieurs au nombre total de points N + la valeur de l'intervalle"
   ]
  },
  {
   "cell_type": "code",
   "execution_count": 73,
   "metadata": {},
   "outputs": [],
   "source": [
    "# Initialisation des variables \n",
    "AIRE1,AIRE2 = 0,0 \n",
    "i1,i2 = 0,0 "
   ]
  },
  {
   "cell_type": "code",
   "execution_count": 74,
   "metadata": {},
   "outputs": [],
   "source": [
    "#Calcul de l’aire balayée entre les points B et C\n",
    "Delta_1 =C-B # calcul de l'intervalle entre les points\n",
    "for i1 in range(Delta_1):\n",
    "# Calcul des longueur des cotés des triangles\n",
    "   long11 = m.sqrt((X[B+i1])**2+(Y[B+i1])**2)\n",
    "   long12 = m.sqrt((X[C+i1])**2+(Y[C+i1])**2)\n",
    "   long13 = m.sqrt((X[C+i1]-X[B+i1])**2+(Y[C+i1]-Y[B+i1])**2) \n",
    "# calcul du demi périmètre\n",
    "   demi_perim_1 = 1/2*(long11+long12+long13)\n",
    "# Calcul de l'aire par la formule de Héron\n",
    "   AIRE1 = m.sqrt(demi_perim_1*(demi_perim_1-long11)*(demi_perim_1-long12)*(demi_perim_1-long13))+AIRE1"
   ]
  },
  {
   "cell_type": "code",
   "execution_count": 75,
   "metadata": {},
   "outputs": [],
   "source": [
    "#Calcul de l’aire balayée entre les points D et E \n",
    "Delta_2 =E-D # calcul de l'intevalle entre les points\n",
    "for i2 in range(Delta_2):\n",
    "# Calcul des longueur des cotés des triangles\n",
    "    long21 = m.sqrt((X[D+i2])**2+(Y[D+i2])**2)\n",
    "    long22 = m.sqrt((X[E+i2])**2+(Y[E+i2])**2)\n",
    "    long23 = m.sqrt((X[E+i2]-X[D+i2])**2+(Y[E+i2]-Y[D+i2])**2)\n",
    "# calcul du demi périmètre\n",
    "    demi_perim_2 = 1/2*(long21+long22+long23)\n",
    "# Calcul de l'aire par la formule de Héron\n",
    "    AIRE2 = m.sqrt(demi_perim_2*(demi_perim_2-long21)*(demi_perim_2-long22)*(demi_perim_2-long23)) +AIRE2"
   ]
  },
  {
   "cell_type": "code",
   "execution_count": 76,
   "metadata": {},
   "outputs": [
    {
     "name": "stdout",
     "output_type": "stream",
     "text": [
      "aire A1 balayée entre les points B et C --> 0.24521153296473489\n",
      "aire A2 balayée entre les points D et E --> 0.2543125748947479\n"
     ]
    }
   ],
   "source": [
    "#Affichage de l'aire calculée (unité : UA au carré)\n",
    "print('aire A1 balayée entre les points B et C --> ' + str(AIRE1)) \n",
    "print('aire A2 balayée entre les points D et E --> ' + str(AIRE2))"
   ]
  },
  {
   "cell_type": "code",
   "execution_count": 77,
   "metadata": {},
   "outputs": [
    {
     "data": {
      "image/png": "[encoded data removed]",
      "text/plain": [
       "<Figure size 432x288 with 1 Axes>"
      ]
     },
     "metadata": {
      "needs_background": "light"
     },
     "output_type": "display_data"
    }
   ],
   "source": [
    "#Affichage de l’orbite \n",
    "plt.grid(True) \n",
    "plt.xlabel(\"distance (U.A)\") \n",
    "plt.ylabel(\"distance (U.A)\") \n",
    "plt.axis('equal')\n",
    "plt.plot(X,Y,\"bo\") \n",
    "plt.plot(0,0,\"go\")\n",
    "plt.show()"
   ]
  },
  {
   "cell_type": "code",
   "execution_count": null,
   "metadata": {},
   "outputs": [],
   "source": []
  },
  {
   "cell_type": "code",
   "execution_count": null,
   "metadata": {},
   "outputs": [],
   "source": []
  }
 ],
 "metadata": {
  "jupytext": {
   "cell_metadata_filter": "-all",
   "encoding": "# -*- coding: utf-8 -*-",
   "notebook_metadata_filter": "-all",
   "text_representation": {
    "extension": ".py",
    "format_name": "light"
   }
  },
  "kernelspec": {
   "display_name": "Python 3",
   "language": "python",
   "name": "python3"
  },
  "language_info": {
   "codemirror_mode": {
    "name": "ipython",
    "version": 3
   },
   "file_extension": ".py",
   "mimetype": "text/x-python",
   "name": "python",
   "nbconvert_exporter": "python",
   "pygments_lexer": "ipython3",
   "version": "3.8.3"
  },
  "latex_envs": {
   "LaTeX_envs_menu_present": true,
   "autoclose": false,
   "autocomplete": true,
   "bibliofile": "biblio.bib",
   "cite_by": "apalike",
   "current_citInitial": 1,
   "eqLabelWithNumbers": true,
   "eqNumInitial": 1,
   "hotkeys": {
    "equation": "Ctrl-E",
    "itemize": "Ctrl-I"
   },
   "labels_anchors": false,
   "latex_user_defs": false,
   "report_style_numbering": false,
   "user_envs_cfg": false
  }
 },
 "nbformat": 4,
 "nbformat_minor": 4
}
