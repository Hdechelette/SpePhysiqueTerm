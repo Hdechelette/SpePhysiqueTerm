{
 "cells": [
  {
   "cell_type": "code",
   "execution_count": 1,
   "metadata": {},
   "outputs": [
    {
     "ename": "SyntaxError",
     "evalue": "invalid syntax (<ipython-input-1-80e1b5e7b03d>, line 47)",
     "output_type": "error",
     "traceback": [
      "\u001b[0;36m  File \u001b[0;32m\"<ipython-input-1-80e1b5e7b03d>\"\u001b[0;36m, line \u001b[0;32m47\u001b[0m\n\u001b[0;31m    ax=\u001b[0m\n\u001b[0m       ^\u001b[0m\n\u001b[0;31mSyntaxError\u001b[0m\u001b[0;31m:\u001b[0m invalid syntax\n"
     ]
    }
   ],
   "source": [
    "################################################################################\n",
    "# CHAPITRE 11: Exercice 24\n",
    "################################################################################\n",
    "\n",
    "import matplotlib.pyplot as plt\n",
    "import csv\n",
    "\n",
    "################################################################################\n",
    "#fonction permettant de lire le fichier csv\n",
    "################################################################################\n",
    "\n",
    "def readColCSV(fichier,sep,n) :\n",
    "    file=open(fichier,\"r\")\n",
    "    reader=csv.reader(file,delimiter=sep)\n",
    "    col=[]\n",
    "    for row in reader :\n",
    "        if(row[n][0].isdigit()) :\n",
    "            notation_point=row[n].replace(\",\",\".\")\n",
    "            col.append(float(notation_point))\n",
    "    return col\n",
    "\n",
    "\n",
    "################################################################################\n",
    "# Lecture du fichier et création des variables\n",
    "################################################################################\n",
    "\n",
    "#nom du fichier à traiter\n",
    "fichier=input(\"Quel est le nom du fichier de pointage (sans l'extension .csv)?\")+\".csv\"\n",
    "#Appel de la fonction pour récupérer et lire les données.\n",
    "t=readColCSV(fichier,\";\",0)\n",
    "x=readColCSV(fichier, \";\",1)\n",
    "y=readColCSV(fichier, \";\",2)\n",
    "\n",
    "\n",
    "#Calcul des coordonnées vx et vy des vecteurs vitesse\n",
    "vx=[]\n",
    "for i in range(len(x)-1) :\n",
    "    vx=vx+[(x[i+1]-x[i])/(t[i+1]-t[i])]\n",
    "\n",
    "vy=[]\n",
    "for i in range(len(y)-1) :\n",
    "    vy=vy+[(y[i+1]-y[i])/(t[i+1]-t[i])]\n",
    "    \n",
    "#Calcul des coordonnées ax et ay des vecteurs accélération\n",
    "ax=[]\n",
    "for i in range(len(vx)-1) :\n",
    "    ax=\n",
    "\n",
    "ay=[]\n",
    "for i in range(len(vy)-1) :\n",
    "    ay=\n",
    "    \n",
    "################################################################################\n",
    "# Tracé des positions et des vecteurs accélération\n",
    "################################################################################\n",
    "for i in range(len(t)-1):\n",
    "    plt.plot(0,0,x[i],y[i],'ro')\n",
    "    if i < len(t)-2:\n",
    "        plt.arrow(x[i+1],y[i+1],ax[i]*0.1,ay[i]*0.1, color='b',head_width=0.1, head_length=0.10, length_includes_head=True)\n",
    "        plt.text(x[i+1]+0.05,y[i+1]-0.15,'$ \\overrightarrow{a}_{%.i}$'%(i+2),color=\"blue\")\n",
    "\n",
    "#Légende\n",
    "plt.text(1.5,0.55,\"Échelle :    5 $\\mathrm{m\\cdot s^{-2}}$\",  color=\"blue\")\n",
    "plt.plot([2,2],[0,0.5],'_-',color='blue')\n",
    "plt.grid()\n",
    "plt.title(\"Tracé des vecteurs accélération\")\n",
    "plt.xlabel('x (m)')\n",
    "plt.ylabel('y (m)')\n",
    "\n",
    "#sauvegarde sous forme d'image\n",
    "plt.savefig(\"vecteurs-accélération.png\")\n",
    "plt.show()"
   ]
  },
  {
   "cell_type": "code",
   "execution_count": null,
   "metadata": {},
   "outputs": [],
   "source": []
  }
 ],
 "metadata": {
  "kernelspec": {
   "display_name": "Python 3",
   "language": "python",
   "name": "python3"
  },
  "language_info": {
   "codemirror_mode": {
    "name": "ipython",
    "version": 3
   },
   "file_extension": ".py",
   "mimetype": "text/x-python",
   "name": "python",
   "nbconvert_exporter": "python",
   "pygments_lexer": "ipython3",
   "version": "3.8.3"
  }
 },
 "nbformat": 4,
 "nbformat_minor": 4
}
